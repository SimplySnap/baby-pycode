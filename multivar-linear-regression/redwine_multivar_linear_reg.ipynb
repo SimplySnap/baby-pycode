{
  "nbformat": 4,
  "nbformat_minor": 0,
  "metadata": {
    "colab": {
      "provenance": [],
      "authorship_tag": "ABX9TyNqt+kEyozkKQZyED1Zq95s",
      "include_colab_link": true
    },
    "kernelspec": {
      "name": "python3",
      "display_name": "Python 3"
    },
    "language_info": {
      "name": "python"
    }
  },
  "cells": [
    {
      "cell_type": "markdown",
      "metadata": {
        "id": "view-in-github",
        "colab_type": "text"
      },
      "source": [
        "<a href=\"https://colab.research.google.com/github/SimplySnap/baby-pycode/blob/main/multivar-linear-regression/redwine_multivar_linear_reg.ipynb\" target=\"_parent\"><img src=\"https://colab.research.google.com/assets/colab-badge.svg\" alt=\"Open In Colab\"/></a>"
      ]
    },
    {
      "cell_type": "code",
      "execution_count": 1,
      "metadata": {
        "id": "ibK3i1PriP0Z"
      },
      "outputs": [],
      "source": [
        "import pandas as pd\n",
        "import numpy as np\n",
        "import matplotlib.pyplot as plt\n",
        "from mpl_toolkits.mplot3d import Axes3D\n",
        "\n"
      ]
    },
    {
      "cell_type": "code",
      "source": [
        "#import dataset\n",
        "!wget \"https://raw.githubusercontent.com/SimplySnap/baby-pycode/main/multivar-linear-regression/winequality-red.csv\"\n"
      ],
      "metadata": {
        "colab": {
          "base_uri": "https://localhost:8080/"
        },
        "id": "ulr0i7lxidQc",
        "outputId": "a014c17f-7fa0-491f-9624-61f1e235b4af"
      },
      "execution_count": 16,
      "outputs": [
        {
          "output_type": "stream",
          "name": "stdout",
          "text": [
            "--2024-12-21 05:08:06--  https://raw.githubusercontent.com/SimplySnap/baby-pycode/main/multivar-linear-regression/winequality-red.csv\n",
            "Resolving raw.githubusercontent.com (raw.githubusercontent.com)... 185.199.110.133, 185.199.108.133, 185.199.111.133, ...\n",
            "Connecting to raw.githubusercontent.com (raw.githubusercontent.com)|185.199.110.133|:443... connected.\n",
            "HTTP request sent, awaiting response... 200 OK\n",
            "Length: 84199 (82K) [text/plain]\n",
            "Saving to: ‘winequality-red.csv’\n",
            "\n",
            "\rwinequality-red.csv   0%[                    ]       0  --.-KB/s               \rwinequality-red.csv 100%[===================>]  82.23K  --.-KB/s    in 0.02s   \n",
            "\n",
            "2024-12-21 05:08:06 (3.67 MB/s) - ‘winequality-red.csv’ saved [84199/84199]\n",
            "\n"
          ]
        }
      ]
    },
    {
      "cell_type": "code",
      "source": [
        "#Create our X and Y variabbles\n",
        "X = []\n",
        "Y = []\n",
        "\n",
        "#Open dataset\n",
        "for i, line in enumerate(open('winequality-red.csv')):\n",
        "  if i == 0:  # Skip header (first row)\n",
        "    continue\n",
        "  x1,x2,x3,x4,x5,x6,x7,x8,x9,x10,x11,y = line.split(',')\n",
        "  #Create X matrix and Y vector\n",
        "  X.append([float(x1),float(x2),float(x3),float(x4),float(x5),float(x6),float(x7),float(x8),float(x9),float(x10),float(x11),1])\n",
        "  Y.append(float(y))\n",
        "\n",
        "\n",
        "X = np.array(X)\n",
        "Y = np.array(Y)\n"
      ],
      "metadata": {
        "id": "lpbqoOuqiumh"
      },
      "execution_count": 42,
      "outputs": []
    },
    {
      "cell_type": "code",
      "source": [
        "#Check shape\n",
        "X.shape"
      ],
      "metadata": {
        "colab": {
          "base_uri": "https://localhost:8080/"
        },
        "id": "DNBiReKHjHNZ",
        "outputId": "10644923-7cb7-4635-d758-0932523dfff5"
      },
      "execution_count": 43,
      "outputs": [
        {
          "output_type": "execute_result",
          "data": {
            "text/plain": [
              "(1599, 12)"
            ]
          },
          "metadata": {},
          "execution_count": 43
        }
      ]
    },
    {
      "cell_type": "code",
      "source": [
        "#Check shape\n",
        "Y.shape"
      ],
      "metadata": {
        "colab": {
          "base_uri": "https://localhost:8080/"
        },
        "id": "XnJ7t5FDpSWd",
        "outputId": "687901af-a028-4deb-8c91-ac24c936499c"
      },
      "execution_count": 44,
      "outputs": [
        {
          "output_type": "execute_result",
          "data": {
            "text/plain": [
              "(1599,)"
            ]
          },
          "metadata": {},
          "execution_count": 44
        }
      ]
    },
    {
      "cell_type": "code",
      "source": [
        "'''The meat: - the following is a solved equation for the minimisation (local minimum) of\n",
        "the objective function (a flat plane in our vector space)'''\n",
        "w = np.linalg.solve(np.dot(X.T,X),np.dot(X.T,Y))\n",
        "Y_hat = np.dot(X,w) #To get our final prediction of quality"
      ],
      "metadata": {
        "id": "zOoF49cYpYl6"
      },
      "execution_count": 45,
      "outputs": []
    },
    {
      "cell_type": "code",
      "source": [
        "#Calculate r-squared estimator\n",
        "d0 = Y - Y_hat\n",
        "d1 = Y - Y.mean()\n",
        "r2 = 1 - (d0.dot(d0)/d1.dot(d1))\n",
        "print(f\"The r-squared is {r2}\")"
      ],
      "metadata": {
        "colab": {
          "base_uri": "https://localhost:8080/"
        },
        "id": "EaXhrZBDrtDe",
        "outputId": "e4d97879-2a80-42c3-c7b2-56a2f4c327aa"
      },
      "execution_count": 46,
      "outputs": [
        {
          "output_type": "stream",
          "name": "stdout",
          "text": [
            "The r-squared is 0.36055170303868844\n"
          ]
        }
      ]
    },
    {
      "cell_type": "markdown",
      "source": [
        "So, clearly the linear model does not well estimate the quality of wine. Let's compare this to a polynomial regression done in the same way. We use sklearn only to generate polynomials"
      ],
      "metadata": {
        "id": "r71ITUxWtwg8"
      }
    },
    {
      "cell_type": "code",
      "source": [
        "from sklearn.preprocessing import PolynomialFeatures\n",
        "from sklearn.linear_model import LinearRegression"
      ],
      "metadata": {
        "id": "_lvakHgvvNMH"
      },
      "execution_count": 48,
      "outputs": []
    },
    {
      "cell_type": "code",
      "source": [
        "#Create our X and Y variabbles\n",
        "X = []\n",
        "Y = []\n",
        "\n",
        "#Open dataset\n",
        "for i, line in enumerate(open('winequality-red.csv')):\n",
        "  if i == 0:  # Skip header (first row)\n",
        "    continue\n",
        "  x1,x2,x3,x4,x5,x6,x7,x8,x9,x10,x11,y = line.split(',')\n",
        "  #Create X matrix and Y vector\n",
        "  X.append([float(x1),float(x2),float(x3),float(x4),float(x5),float(x6),float(x7),float(x8),float(x9),float(x10),float(x11)])\n",
        "  Y.append(float(y))\n",
        "\n",
        "\n",
        "X = np.array(X)\n",
        "Y = np.array(Y)\n"
      ],
      "metadata": {
        "id": "v0mxpwFIueA7"
      },
      "execution_count": 47,
      "outputs": []
    },
    {
      "cell_type": "code",
      "source": [
        "deg = 3  # Degree of the polynomial (adjust for higher/lower complexity)\n",
        "poly = PolynomialFeatures(degree=deg)\n",
        "\n",
        "X_poly = poly.fit_transform(X)  # Expands X to include polynomial terms"
      ],
      "metadata": {
        "id": "NJWB6WDCvRF4"
      },
      "execution_count": 49,
      "outputs": []
    },
    {
      "cell_type": "code",
      "source": [
        "#Fit model\n",
        "w = np.linalg.solve(np.dot(X_poly.T,X_poly),np.dot(X_poly.T,Y))\n",
        "Y_hat = np.dot(X_poly,w) #To get our final prediction of quality"
      ],
      "metadata": {
        "id": "VbcgJcSAv6O-"
      },
      "execution_count": 52,
      "outputs": []
    },
    {
      "cell_type": "code",
      "source": [
        "#Calculate r-squared estimator\n",
        "d0 = Y - Y_hat\n",
        "d1 = Y - Y.mean()\n",
        "r2 = 1 - (d0.dot(d0)/d1.dot(d1))\n",
        "print(f\"The r-squared is {r2}\")"
      ],
      "metadata": {
        "colab": {
          "base_uri": "https://localhost:8080/"
        },
        "id": "k5CT_G96waeG",
        "outputId": "26ac9332-6ec9-424d-884d-9d122b28df60"
      },
      "execution_count": 53,
      "outputs": [
        {
          "output_type": "stream",
          "name": "stdout",
          "text": [
            "The r-squared is 0.6114089786787659\n"
          ]
        }
      ]
    },
    {
      "cell_type": "markdown",
      "source": [
        "Clearly, the polynomial regression is a lot better."
      ],
      "metadata": {
        "id": "WMzR2O6ew0o-"
      }
    }
  ]
}